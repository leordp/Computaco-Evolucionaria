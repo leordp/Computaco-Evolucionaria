{
  "cells": [
    {
      "cell_type": "markdown",
      "metadata": {
        "id": "view-in-github",
        "colab_type": "text"
      },
      "source": [
        "<a href=\"https://colab.research.google.com/github/leordp/Computaco-Evolucionaria/blob/main/N_Queens.ipynb\" target=\"_parent\"><img src=\"https://colab.research.google.com/assets/colab-badge.svg\" alt=\"Open In Colab\"/></a>"
      ]
    },
    {
      "cell_type": "code",
      "execution_count": 81,
      "metadata": {
        "id": "JQICme68vF1N"
      },
      "outputs": [],
      "source": [
        "import random as rd\n",
        "import numpy as np\n",
        "import matplotlib.pyplot as plt"
      ]
    },
    {
      "cell_type": "markdown",
      "metadata": {
        "id": "c3uUHeuvtzOG"
      },
      "source": [
        "A função init_population inicia a populaçõa original, ela recebe a quantidade de indivíduos por população e o tamanha do tabuleiro.\n",
        "Um indivíduo é representado por um vetor de N números pertencentes ao invervalo [0,N] sem repetição de números em um mesmo indivíduo.\n",
        "\n",
        "Os números representam a linha do tabuleiro em que há um rainha, enquanto sua posição no vetor representa a coluna do tabuleiro."
      ]
    },
    {
      "cell_type": "code",
      "execution_count": 82,
      "metadata": {
        "id": "DRiGDHvUtPjZ"
      },
      "outputs": [],
      "source": [
        "def init_population(_mu:int, n:int):\n",
        "    population = []\n",
        "    for i in range (_mu):\n",
        "        population.append(rd.sample(range(n), n))\n",
        "    return population"
      ]
    },
    {
      "cell_type": "markdown",
      "metadata": {
        "id": "ZPIlI2vBvRal"
      },
      "source": [
        "fitness_nq calcula quantos xeques são possíveis em uma determinada população, a função servirá como pressão evolutiva, uma vez que os indivíduos serão selecionados de acordo com seu número de xeques."
      ]
    },
    {
      "cell_type": "code",
      "execution_count": 83,
      "metadata": {
        "id": "2vKiAYjYtRc2"
      },
      "outputs": [],
      "source": [
        "def fitness_nq(solution):\n",
        "    xeques = 0\n",
        "    for i in range(0,len(solution)):\n",
        "        for j in range(0,len(solution)):\n",
        "            if i!=j:\n",
        "                if i-solution[i] == j-solution[j] or i+solution[i] == j+solution[j]:\n",
        "                    xeques+=1\n",
        "    return xeques"
      ]
    },
    {
      "cell_type": "markdown",
      "metadata": {
        "id": "4Kmw8hFNvfaz"
      },
      "source": [
        "A função cut_crossfil recebe como parâmetro dois indivíduos que servirão de pais e a partir deles gera dois outros indivíduos, os filhos. O método de replicação de indivíduos escolhido foi o Crossfil com um corte, em que uma posição aleatória do vetor é escolhida para dividir o vetor em dois, as metades então são concatenadas com suas complementares, porém provenientes do outro indivíduo selecionada. Dessa meneira, os filhos gerados são uma combinação dos dois pais."
      ]
    },
    {
      "cell_type": "code",
      "execution_count": 84,
      "metadata": {
        "id": "ec_iOzNMv2gK"
      },
      "outputs": [],
      "source": [
        "\n",
        "def fill_child(child,parent):\n",
        "  for i in parent:\n",
        "    if not i in child:\n",
        "      child.append(i)\n",
        "\n",
        "def cut_crossfil(parent1,parent2):\n",
        "  child1 = []\n",
        "  child2 = []\n",
        "  crossover_pos = rd.randint(1,N-1)\n",
        "  segment1 = [parent1[:crossover_pos],parent2[:crossover_pos]]\n",
        "  segment2 = [parent1[crossover_pos:N],parent2[crossover_pos:N]]\n",
        "  child1[:crossover_pos] = segment1[0]\n",
        "  child2[:crossover_pos] = segment1[1]\n",
        "\n",
        "  fill_child(child1,parent2)\n",
        "  fill_child(child2,parent1)\n",
        "\n",
        "  return child1, child2"
      ]
    },
    {
      "cell_type": "markdown",
      "metadata": {
        "id": "Jn8AGwqSwYAv"
      },
      "source": [
        "As etapas presentes no loop principal do algorítimo são:\n",
        "\n",
        "**Seleção**\n",
        "\n",
        "**Recombinação**\n",
        "\n",
        "**Avaliação**\n",
        "\n",
        "Cada uma delas foi separada em sua própria função"
      ]
    },
    {
      "cell_type": "markdown",
      "metadata": {
        "id": "YSwyASOZwwls"
      },
      "source": [
        "**Seleção:**\n",
        "\n",
        "Responsável por selecionar os melhores indivíduos para gerearem filhos. Os indivíduos são escolhidos com base em seu número de xeques, priorizando os com menos números. O método de seleção é simples, o vetor com o fitness de cada indivíduo é ordenado do maior para o menor e os 4 indivíduos com o melhor fitess são separados. Desses indivíduos, 2 são selecionados aleatoriamente para gerarem filhos.\n",
        "\n",
        "A escolha por selecionar os pais dentre os 4 melhores, ao invés de simplesmente escolher os 2 mais fortes, foi tomada para incentivar a variabilidade nos filhos. Escolher dois pais aleatórios dentre uma seleção de bons cadidatos diminui as chances de pais se repetirem, diminuindo assim um possível viés que o algorítimo pode criar para um mínimo local. A mesma lógica foi utilizada para encontrar os piores indivíduos para serem retirados população, apesar de possuir menos efeito na convergência do algorítimo.\n",
        "\n",
        "A figura abaixo mostra um exemplo do algorítimo rodando por 5000 voltas do loop e ficando estagnado em um mínimo.\n",
        "\n",
        "![image.png](data:image/png;base64,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)\n"
      ]
    },
    {
      "cell_type": "code",
      "execution_count": 85,
      "metadata": {
        "id": "5679k76KtXqR"
      },
      "outputs": [],
      "source": [
        "def select(pop,pop_fitness):\n",
        "  candidates = pop_fitness[:]\n",
        "  candidates.sort()\n",
        "\n",
        "  parent1,parent2 = rd.sample(candidates[:4],2)\n",
        "\n",
        "\n",
        "  i1 = pop_fitness.index(parent1)\n",
        "  i2 = pop_fitness.index(parent2)\n",
        "\n",
        "  return pop[i1],pop[i2]"
      ]
    },
    {
      "cell_type": "markdown",
      "metadata": {
        "id": "6Va8HbmBxMeO"
      },
      "source": [
        "**Recombinação:**\n",
        "\n",
        "A etapa de recombinação é responsável por utilizar os pais escolhidos durante a etapa de seleção e criar dois filhos à partir deles.\n",
        "Além da reprodução, a função também implementa uma possibilidade de mutação dos filhos. No processo de mutação, um dos dois filhos gerados é escolhido aleatoriamente, e dois de seus elementos são trocados entre si, introduzindo uma pequena variabilidade à pupulação.\n",
        "\n",
        "A mutação contribui para diminuir algum viés causado pela escolha dos pais.\n",
        "\n",
        "Tanto a operação de Crossover quanto a mutação estão sujeitas à certas probabilidades de ocorrer, determinadas previamente."
      ]
    },
    {
      "cell_type": "code",
      "execution_count": 86,
      "metadata": {
        "id": "hxwYz7gataSP"
      },
      "outputs": [],
      "source": [
        "def recombine(parent1,parent2):\n",
        "  chance = rd.randint(0,100)\n",
        "  child = [parent1,parent2]\n",
        "  if chance <= 100*crossover_rate:\n",
        "    child = cut_crossfil(parent1,parent2)\n",
        "  chance = rd.randint(0,100)\n",
        "  if chance <= 100*mutation_rate:\n",
        "    i,j = rd.sample(range(0, len(child[0])), 2)\n",
        "    k = rd.randint(0,1)\n",
        "    child[k][i],child[k][j] = child[k][j],child[k][i]\n",
        "\n",
        "  return child[0], child[1]"
      ]
    },
    {
      "cell_type": "markdown",
      "metadata": {
        "id": "wR6XEX1QyuY-"
      },
      "source": [
        "**Avaliação:**\n",
        "\n",
        "A etapa de avaliação seleciona tanto o melhor indivíduo (aquele que possui a quantidade de xeques mais próxima de zero), quando os piores(aqueles com a maior quantidade de xeque).\n",
        "\n",
        "O processo de escolha dos piores indivíduos é análoga a de se escolher os melhores.\n",
        "\n"
      ]
    },
    {
      "cell_type": "code",
      "execution_count": 87,
      "metadata": {
        "id": "Q68drs2zYzK1"
      },
      "outputs": [],
      "source": [
        "\n",
        "def evaluate(pop,pop_fitness):\n",
        "  best = min(pop_fitness)\n",
        "\n",
        "  candidates = pop_fitness[:]\n",
        "  candidates.sort()\n",
        "  worst1,worst2 = rd.sample(candidates[-4:],2)\n",
        "\n",
        "\n",
        "  return best,pop[pop_fitness.index(best)],pop_fitness.index(worst1),pop_fitness.index(worst2)"
      ]
    },
    {
      "cell_type": "markdown",
      "metadata": {
        "id": "gPF6tVSO0NZz"
      },
      "source": [
        "A função principal do algorítimo, que implementa o loop, é simplesmente uma chamada das funções anteriores. Além de organizar as etapas, dentro do loop principal foram incluídas algumas funções mais isoladas como atualizar a populção com os filhos, a remoção dos piores indivíduos e recalcular o fitness."
      ]
    },
    {
      "cell_type": "code",
      "execution_count": 88,
      "metadata": {
        "id": "wUpSWkYOTXDw"
      },
      "outputs": [],
      "source": [
        "from typing import Counter\n",
        "def find_n_queens():\n",
        "  avarage_fitness = []\n",
        "  list_of_bests = []\n",
        "  pop = init_population(MU, N)\n",
        "  pop_fitness = [fitness_nq(each_solution) for each_solution in pop]\n",
        "  best = pop[0]\n",
        "  counter = 0\n",
        "  while counter < limit:\n",
        "    parent1,parent2 = select(pop,pop_fitness)\n",
        "    child1,child2 = recombine(parent1,parent2)\n",
        "    best,best_pop,dead1,dead2 = evaluate(pop,pop_fitness)\n",
        "    list_of_bests.append(best)\n",
        "    counter += 1\n",
        "    #Comentar condição de saída para calcular a média de diversas iterações\n",
        "    # if best == 0:\n",
        "    #    avarage_fitness.append(sum(pop_fitness)/len(pop_fitness))\n",
        "    #    break\n",
        "\n",
        "\n",
        "    if dead2 > dead1:\n",
        "      dead2 = dead2 - 1\n",
        "    del pop[dead1]\n",
        "    del pop[dead2]\n",
        "\n",
        "    pop.append(child1)\n",
        "    pop.append(child2)\n",
        "    pop_fitness = [fitness_nq(each_solution) for each_solution in pop]\n",
        "    avarage_fitness.append(sum(pop_fitness)/len(pop_fitness))\n",
        "\n",
        "  #print(best_pop)\n",
        "  # print(fitness_nq(best_pop))\n",
        "  # print(pop_fitness)\n",
        "  #print(best)\n",
        "  # print(counter)\n",
        "  return best_pop\n",
        "  #return list_of_bests,avarage_fitness,counter\n"
      ]
    },
    {
      "cell_type": "code",
      "source": [
        "def squash(list):\n",
        "  l = [0]*len(list[0])\n",
        "  for i in range(0,len(list)):\n",
        "    for j in range(0,len(list[i])):\n",
        "      l[j] = l[j] + list[i][j]\n",
        "\n",
        "  return [x//len(list) for x in l]"
      ],
      "metadata": {
        "id": "5YMMfAED9I9J"
      },
      "execution_count": 89,
      "outputs": []
    },
    {
      "cell_type": "markdown",
      "metadata": {
        "id": "Uw-vY81703oy"
      },
      "source": [
        "A seguir a função principal é chamada para resolver problemas com N=50, N=20 e N=8, com um limite de iterações de 10000. A média do fitness da populção ao longo do tempo é plotada, juntamente com o melhor indivíduo de cada geração."
      ]
    },
    {
      "cell_type": "code",
      "source": [
        "# MU = 20\n",
        "# N = 50\n",
        "# limit = 10000\n",
        "\n",
        "# crossover_rate = 1\n",
        "# mutation_rate = 0.8\n",
        "\n",
        "# best,average,iterations = find_n_queens()\n",
        "\n",
        "# x = range(0,iterations)\n",
        "# plt.scatter(x,best)\n",
        "# plt.scatter(x,average)\n",
        "# plt.show()"
      ],
      "metadata": {
        "id": "PAWcWLCDPSlE"
      },
      "execution_count": 90,
      "outputs": []
    },
    {
      "cell_type": "code",
      "source": [
        "# MU = 20\n",
        "# N = 20\n",
        "# limit = 100000\n",
        "\n",
        "# crossover_rate = 1\n",
        "# mutation_rate = 0.8\n",
        "\n",
        "# best,average,iterations = find_n_queens()\n",
        "\n",
        "# x = range(0,iterations)\n",
        "# plt.scatter(x,best)\n",
        "# plt.scatter(x,average)\n",
        "# plt.show()"
      ],
      "metadata": {
        "id": "oGZy793qZXze"
      },
      "execution_count": 91,
      "outputs": []
    },
    {
      "cell_type": "code",
      "source": [
        "# MU = 20\n",
        "# N = 8\n",
        "# limit = 100000\n",
        "\n",
        "# crossover_rate = 1\n",
        "# mutation_rate = 0.8\n",
        "\n",
        "# best,average,iterations = find_n_queens()\n",
        "\n",
        "# x = range(0,iterations)\n",
        "# plt.scatter(x,best)\n",
        "# plt.scatter(x,average)\n",
        "# plt.show()"
      ],
      "metadata": {
        "id": "Aexju2Q5Zebw"
      },
      "execution_count": 92,
      "outputs": []
    },
    {
      "cell_type": "code",
      "execution_count": 93,
      "metadata": {
        "id": "FMoyAUNwaioM"
      },
      "outputs": [],
      "source": [
        "# MU = 20\n",
        "# N = 50\n",
        "# limit = 5000\n",
        "\n",
        "# crossover_rate = 1\n",
        "# mutation_rate = 0.8\n",
        "\n",
        "# total_it = 100\n",
        "# best = []\n",
        "# average = []\n",
        "# iterations = 0\n",
        "\n",
        "# for i in range(0,total_it):\n",
        "#     b,a,it = find_n_queens()\n",
        "#     best.append(b)\n",
        "#     average.append(a)\n",
        "#     iterations = iterations + it\n",
        "\n",
        "# x = range(0,int(iterations/total_it))\n",
        "# print(len(best),len(best[0]))\n",
        "# plt.scatter(x,squash(best))\n",
        "# plt.scatter(x,squash(average))\n",
        "# plt.show()"
      ]
    },
    {
      "cell_type": "markdown",
      "source": [
        "A figura a seguir mostra a média dos resultados para 100 iterações da solução para 50 rainhas. O algorítimo rodado foi interrompido após 5000 repetições do loop principal, idependentemente de ter encontrado a solução ou não.\n",
        "\n",
        "O gráfico mostra que o algorítimo converte rapidamente para um mínimo local no início, porém depodois desacelera a conversão, podendo inclusive não sair do mínimo local encontrado. Devido ao gráfico representar a média dos resultados de diversas iterações, a curva de conversão aparenta mais suave do que em testes isolados. Como é mostrado nos gráficos dos testes acima, a curva de conversão tende a ficar a maior parte do tempo de de execução estagnada em um mínimo local, porém eventualmente encontrando a resposta ótima. Essa estagnação pode ser um sinal de falta de variabilidade aleatória no algorítimo e pressão seletiva muito restrita. Essas característcas podem fazer o algoŕitimo criar um viés para uma solução não-ótima, ficando estagnado nela.\n",
        "A melhor maneira de se resolver isso seria adicionando mais variabilidade no algorítimo, contudo, uma seleção de indivíduos muito aleatória pode fazer com que o algorítimo não convirja.\n",
        "\n",
        "\n",
        "\n",
        "![image.png](data:image/png;base64,iVBORw0KGgoAAAANSUhEUgAAAiEAAAGeCAYAAABCY9G6AAAABHNCSVQICAgIfAhkiAAAABl0RVh0U29mdHdhcmUAZ25vbWUtc2NyZWVuc2hvdO8Dvz4AAAAmdEVYdENyZWF0aW9uIFRpbWUAc2V4IDE1IHNldCAyMDIzIDEyOjEyOjM2n+h7AQAAIABJREFUeJzt3Xt4VOW5/vF7JsnkYJiEcEgIJIBbKyKCiAJBsRajeKhH2qI/VLReUjVYAbdWrAds0VDdFWuLqFSh7pZSbYtFqyhFSbclIKJUEEWtQKgxiQrJJECSSeb9/REyZciBmWROWev7ua65NlnrnZknq7Tce83zPuMYP368EQAAQJQ5jDGEEAAAEDUFBQWSJGeM6wAAADZFCAEAADFBCAEAADFBCAEAADFBCAEAADFBCAEAADFBCAEAADFBCAEAADGRGOsCjuTz+VReXq5evXrJ4XDEuhwAABAEY4xqa2uVm5srpzO4exxxF0LKy8uVl5cX6zIAAEAX7NmzR4MGDQpqbdyFkF69eklq+SXcbneMqwEAAMHweDzKy8vz/zsejLgLIa0fwbjdbkIIAAA9TCitFDSmAgCAmCCEAACAmCCEAACAmCCEAACAmCCEAACAmCCEAACAmCCEAACAmCCEAACAmIi7YWUR42uWdq+X6iql9Gxp8ATJmRDrqgAAsC17hJDtq6TVP5I85f855s6Vzv+ZNPyS2NUFAICNWf/jmO2rpOevDQwgkuT5ouX49lWxqQsAAJuzdgjxNbfcAZFp5+ShY6vvalkHAACiytohZPf6tndAAhjJ83nLOgAAEFXWDiF1leFdBwAAwsbaISQ9O7zrAABA2Fg7hAye0LILRo4OFjgk98CWdQAAIKqsHUKcCS3bcCW1DSKHfj5/AfNCAACIAWuHEKllDsj3npPcAwKPu3NbjjMnBACAmLDHsLLhl0jDLmJiKgAAccT6d0IAAEBcssedEMa2AwAQd6x/J4Sx7QAAxCVrhxDGtgMAELesHUIY2w4AQNyydghhbDsAAHEr5BDy+eef6+qrr1afPn2Umpqqk08+We+8847/vDFG9913nwYMGKDU1FQVFhbqk08+CWvRQWNsOwAAcSukELJv3z6dccYZSkpK0quvvqrt27fr5z//uXr37u1f8/DDD+vxxx/Xk08+qY0bN+qYY47R5MmTVV9fH/bij4qx7QAAxK2Qtuj+7Gc/U15enpYuXeo/NnToUP+fjTF67LHHdM899+jSSy+VJD333HPKzs7Wiy++qCuvvDJMZQepdWz789eqJYgc3qDK2HYAAGIppDshq1at0mmnnabvfve76t+/v0aPHq0lS5b4z+/cuVMVFRUqLCz0H8vIyNC4ceNUWlra7ms2NDTI4/EEPMKKse0AAMSlkO6EfPbZZ1q8eLHmzJmju+++W5s2bdIPf/hDuVwuTZ8+XRUVFZKk7OzAHovs7Gz/uSMVFxfrgQce6GL5QWJsOwAAcSekOyE+n0+nnnqqHnroIY0ePVozZszQjTfeqCeffLLLBcydO1c1NTX+x549e7r8WgAAoOcI6U7IgAEDNHz48IBjJ554ov70pz9JknJyciRJlZWVGjDgPx9/VFZW6pRTTmn3NZOTk5WcnBxS0SFjbDsAAHEnpDshZ5xxhnbs2BFw7OOPP9bgwYMltTSp5uTkaO3atf7zHo9HGzduVEFBQRjK7QLGtgMAEJdCCiGzZ8/Whg0b9NBDD+nTTz/V8uXL9fTTT6uoqEiS5HA4NGvWLM2fP1+rVq3S1q1bde211yo3N1eXXXZZRH6BTjG2HQCAuBXSxzGnn366Vq5cqblz5+onP/mJhg4dqscee0zTpk3zr7nzzju1f/9+zZgxQ9XV1TrzzDO1evVqpaSkhL34owplbPvQiVErCwAASA5jTHu3CWLG4/EoIyNDNTU1crvd3XuxrX+U/nTD0ddNeUY6+Tvdey8AAGwslH+/W1s0rP3dMYxtBwAgblk7hAyeIKX27nxNahZj2wEAiAFrhxBJHX9vDAAAiCVrh5Dd66WDeztfc3BvyzoAABBV1g4hdZXhXQcAAMLG2iGExlQAAOKWtUPI4Akt49k77AtxSO6BNKYCABAD1g4hzoSW74eR1DaIHPr5/AV8my4AADFg7RAitXxB3feek9wDAo+7c1uO8wV2AADEREhj23us4ZdIwy5q2QVTV9nSAzJ4AndAAACIIevfCQEAAHHJHndCtq9q+Tbdw7/Mzp3b0i/CxzEAAMSE9e+EbF8lPX9t22/T9XzRcnz7qtjUBQCAzVk7hPiaW+6AqL0vCj50bPVdLesAAEBUWTuE7F7f9g5IACN5PmdsOwAAMWDtEMLYdgAA4pa1Qwhj2wEAiFvWDiGDJ0ipvTtfk5rF2HYAAGLA2iFEUsffGwMAAGLJ2iFk93rp4N7O1xzcS2MqAAAxYO0QQmMqAABxy9ohhMZUAADilrVDyOAJLePZO+wLcUjugTSmAgAQA9YOIc6Elu+HkdQ2iBz6+fwFfJsuAAAxYO0QIrV8Qd33npPcAwKPu3NbjvMFdgAAxIQ9vkV3+CXSsItadsHUVbb0gAyewB0QAABiyPp3QgAAQFyyx52Q7atavk338C+zc+e29IvwcQwAADFh/Tsh21dJz1/b9tt0PV+0HN++KjZ1AQBgc9YOIb7mljsgMu2cPHRs9V0t6wAAQFRZO4TsXt/2DkgAI3k+Z2w7AAAxYO0Qwth2AADilrVDCGPbAQCIW9YOIf6x7Udx4OvI1wIAAAJYO4Q4E6Tzio++7rW7aU4FACDKrB1CJOmYPkdfQ3MqAABRZ/0QQnMqAABxyfohhOZUAADikvVDyOAJUmrvztekZrWsAwAAUWP9ECJJcsS6AAAAcATrh5Dd66WDeztfc3AvjakAAESZ9UMIjakAAMQl64cQGlMBAIhLIYWQefPmyeFwBDyGDRvmP19fX6+ioiL16dNH6enpmjJliiorY3yHIZipqe6BNKYCABBlId8JOemkk/TFF1/4H2+99Zb/3OzZs/XSSy/phRdeUElJicrLy3XFFVeEteCQOROkEd/pfM2IKS3rAABA1CSG/ITEROXk5LQ5XlNTo2eeeUbLly/XpEmTJElLly7ViSeeqA0bNmj8+PHdr7YrfM3Stj92vmbbn6TCeQQRAACiKOQ7IZ988olyc3N17LHHatq0aSorK5Mkbd68WV6vV4WFhf61w4YNU35+vkpLSzt8vYaGBnk8noBHWO1eL3nKO1/D2HYAAKIupBAybtw4LVu2TKtXr9bixYu1c+dOTZw4UbW1taqoqJDL5VJmZmbAc7Kzs1VRUdHhaxYXFysjI8P/yMvL69pv0hF2xwAAEJdC+jjmggsu8P955MiRGjdunAYPHqznn39eqampXSpg7ty5mjNnjv9nj8cT3iDC7hgAAOJSt7boZmZm6hvf+IY+/fRT5eTkqLGxUdXV1QFrKisr2+0haZWcnCy32x3wCCvGtgMAEJe6FULq6ur0r3/9SwMGDNCYMWOUlJSktWvX+s/v2LFDZWVlKigo6Hah3cPYdgAA4k1IH8f893//ty6++GINHjxY5eXluv/++5WQkKCrrrpKGRkZuuGGGzRnzhxlZWXJ7Xbr1ltvVUFBQex2xkihjW0fOjE6NQEAgNBCyL///W9dddVV+vrrr9WvXz+deeaZ2rBhg/r16ydJWrhwoZxOp6ZMmaKGhgZNnjxZTzzxREQKDxqNqQAAxKWQQsiKFSs6PZ+SkqJFixZp0aJF3SoqrGhMBQAgLln/u2NoTAUAIC5ZP4RIojEVAID4Y/0QEkpjKgAAiBrrhxAaUwEAiEvWDyE0pgIAEJesH0IGT5DcuZ2vcQ+kMRUAgCizfghxJkgjvtP5mhFTWtYBAICosX4I8TVL2/7Y+Zptf2pZBwAAosb6IWT3eslT3vkaz+fsjgEAIMqsH0LYHQMAQFyyfghhdwwAAHHJ8iFkdd1Q7TXpMqb980ZibDsAADFg6RDS7DP66Uvbj7qug3wCAAAiyNIh5O2de5VX909lOerk6ODrYxySHIxtBwAg6iwdQqpq69Vf1cEtpjEVAICosnQI6d8rRVXKDG4xjakAAESVpUPI2KFZ+jh5xFEbUw2NqQAARJ2lQwgAAIhflg4hb+/cq280bKMxFQCAOGTpEEJjKgAA8cvSIYTGVAAA4pelQ8jYoVnakz5K5SZLvg4aU32SjHsgjakAAESZpUNIgtOhPu5UbW0eKofUZoeMMYd6QgaMkpwJsSgRAADbsnQIOdjYrO3/3qvChHclqU1zqsMhyUjm49ekpsboFwgAgI1ZOoQ89Mp2XZvwuhIcpuPdMQ7JYZqlTUuiWxwAADZn6RCy6+sDyndUBbd4366I1gIAAAJZOoQM6ZOmMtM/uMW9h0S0FgAAEMjSIeTuC4fruebz1GzaNqW2MqZldLt6DYhmaQAA2J6lQ0iC0yGfnDqo5A7X+HtFXr9H8jVHpzAAAGDtEPK/pbs01vmR0h0NHTamSi3bdOX5nNHtAABEkaVDyO69B4If2y4xuh0AgCiydAgZnJUW/Nh2idHtAABEkaVDyDUFQ/SOGaZy07vDxlTpUGOqK53R7QAARJGlQ4gr0anpZwzVT73TJHW8Q0ZGMo37aUwFACCKLB1CJCk3I00DHNUtk1E7m5oqw9RUAACiyPIhZPdepqYCABCPLB9CBmcxNRUAgHhk+RByTcEQ/dZ3npqNo/OpqY4E6fQbo1scAAA2ZvkQ4kp0atjALO32tdwNOTKIGCPJITky86VEV/QLBADApiwfQhqbfPr486801NkyiOzI5lSHQy27Y/btlBoPRr9AAABsyvIh5H9Ld2luwm+D2B0jac09UawMAAB7s3wI2b33gIY4ghzHvvezyBYDAAD8uhVCFixYIIfDoVmzZvmP1dfXq6ioSH369FF6erqmTJmiysrYfSfL4Kw07TJBjmPPOjayxQAAAL8uh5BNmzbpqaee0siRIwOOz549Wy+99JJeeOEFlZSUqLy8XFdccUW3C+2qawqG6MGmq1t2wHS2O0aSzp0fzdIAALC1LoWQuro6TZs2TUuWLFHv3r39x2tqavTMM8/o0Ucf1aRJkzRmzBgtXbpU69ev14YNG8JWdCgam3wxeV8AANC5LoWQoqIiXXTRRSosLAw4vnnzZnm93oDjw4YNU35+vkpLS9t9rYaGBnk8noBHOM3+w3v6cSKNqQAAxJvEUJ+wYsUKvfvuu9q0aVObcxUVFXK5XMrMzAw4np2drYqKinZfr7i4WA888ECoZQStbN9BGlMBAIhDId0J2bNnj2677Tb97ne/U0pKSlgKmDt3rmpqavyPPXv2hOV1W+X3TqUxFQCAOBRSCNm8ebOqqqp06qmnKjExUYmJiSopKdHjjz+uxMREZWdnq7GxUdXV1QHPq6ysVE5OTruvmZycLLfbHfAIp4VTRwffmJpXENb3BgAAHQsphJxzzjnaunWrtmzZ4n+cdtppmjZtmv/PSUlJWrt2rf85O3bsUFlZmQoKYvMPfILTId9Rfs3WXhHzt3slX3MUqgIAACH1hPTq1UsjRowIOHbMMceoT58+/uM33HCD5syZo6ysLLndbt16660qKCjQ+PHjw1d1CB56ZbuuTXi9w6bUVg5J8pRLu9dLQydGozQAAGwt5MbUo1m4cKGcTqemTJmihoYGTZ48WU888US43yZou74+oHMcVcE/oS52g9UAALCTboeQdevWBfyckpKiRYsWadGiRd196bAY0idNZZ/1D/4J6UE2sQIAgG6x/HfH3H3hcD3XfJ6aO2lMlVoaU407Vxo8IWq1AQBgZ5YPIamuBH1reK6WNH1bUvtBpPWYIz1HciZEsToAAOzL8iFEkhZ+b7Qebf5Oh+cdDklGMuXvSo0Ho1cYAAA2ZosQwuh2AADijy1CCKPbAQCIP7YIIYxuBwAg/tgihIQ0uv3c+dEsDQAA27JFCElwHmVcKgAAiDpbhJCHXtlOYyoAAHHGFiFk19cHaEwFACDO2CKEDOmTRmMqAABxxhYh5O4LhwffmJpXEM3SAACwLVuEEElyytfp+dZeEbPmXsnXHIWKAACwN1uEkIde2a7Hkn7VaWOq1NKY6qgtl3avj1ptAADYlS1CyK6vDyjf8WXwT6gLsokVAAB0mS1CyJA+aSoz/YJ/QnqQTawAAKDLbBFC7r5wuGZ5Z3bamCq1NKaaXrnS4AlRqw0AALuyRQhJdSVo4vB8bfG1bL9tL4i0HnMkJkvOhChWBwCAPdkihEjS41eeqqu8HU9DdTgkGcns2ynV10WvMAAAbMo2ISSYHTL+0e0rb4xmaQAA2JJtQkhIO2T27YpoLQAAwEYhJKQdMr2HRLQWAABgoxASzA4Z/+j2y5dEszQAAGzJNiGksanzse0AACC6bBNCvr/sbRpTAQCII7YJIeU19TSmAgAQR2wTQnIzUmhMBQAgjtgmhDx73djgG1MzBkezNAAAbMk2ISTVlSDfUX7d1l4Rs+kpqakxClUBAGBftgkh/1u6Sz9O/G2njalSS2Oqw/ikTWzTBQAgkmwTQnbvPaAhjsrgn0BzKgAAEWWbEDI4K027THbwT6A5FQCAiLJNCLmmYIgearq608ZUqaUx1Tic0unMCgEAIJJsE0JciU5dd9YJer15jKT2g0jrMYcrXUp0RbE6AADsxzYhRJJuOft4zW66ucPzDockI5kGj3SgJnqFAQBgQ7YKId9f9raWJf0suNHtv/9uNEsDAMB2bBVCymvqlev4OrjFNf+ObDEAANicrUJIbkaKyk2f4BZnDIpsMQAA2JytQsiz143Vdd4fBTe6fcAp0SwNAADbsVUIafaZoEe3a9MSRrcDABBBtgohVz69Xo8l/Sqo0e1idDsAABFlqxBSVduofMeXwT+B0e0AAERMSCFk8eLFGjlypNxut9xutwoKCvTqq6/6z9fX16uoqEh9+vRRenq6pkyZosrKEL6vJcL693KpzPQL/gmMbgcAIGJCCiGDBg3SggULtHnzZr3zzjuaNGmSLr30Un3wwQeSpNmzZ+ull17SCy+8oJKSEpWXl+uKK66ISOFdsWLGBM3yzjz66PbWc4xuBwAgYhJDWXzxxRcH/Pzggw9q8eLF2rBhgwYNGqRnnnlGy5cv16RJkyRJS5cu1YknnqgNGzZo/Pjx4au6i7LSXUpKTNEW3yCd4vy3jOm4N8RIctTXSelZUa0RAAC76HJPSHNzs1asWKH9+/eroKBAmzdvltfrVWFhoX/NsGHDlJ+fr9LS0g5fp6GhQR6PJ+ARScnJSUqRCW5q6m8ujGgtAADYWcghZOvWrUpPT1dycrJuuukmrVy5UsOHD1dFRYVcLpcyMzMD1mdnZ6uioqLD1ysuLlZGRob/kZeXF/pvEQJPfZP6O6qDW1zXcd0AAKB7Qg4hJ5xwgrZs2aKNGzfq5ptv1vTp07V9+/YuFzB37lzV1NT4H3v27OnyawXDnZKoKpN59IWSlJ4T0VoAALCzkHpCJMnlcum4446TJI0ZM0abNm3SL37xC02dOlWNjY2qrq4OuBtSWVmpnJyO/zFPTk5WcnJyF0rvmpdvPUuFC+7XVucMSe1/JGOMJIfkmP5K1OoCAMBuuj0nxOfzqaGhQWPGjFFSUpLWrl3rP7djxw6VlZWpoKCgu28TNjmZKTrgSFe9ryV/dbZLRsunRKcoAABsKKQ7IXPnztUFF1yg/Px81dbWavny5Vq3bp1ee+01ZWRk6IYbbtCcOXOUlZUlt9utW2+9VQUFBXGxM6bVwcZmJZpGpTibJLV/J8ThOPQdMuXvtuyQSUmPcpUAAFhfSCGkqqpK1157rb744gtlZGRo5MiReu2113TuuedKkhYuXCin06kpU6aooaFBkydP1hNPPBGRwrvqoVe268eJv+10bLt0WDhZeaN01e8jXhcAAHYTUgh55plnOj2fkpKiRYsWadGiRd0qKpJ2fX1AhY4Qprgyuh0AgIiw1XfHSNKQPmnaZbKDfwKj2wEAiAjbhZC7LxyuB5uuDmp0u5Gky/kmXQAAIsF2ISTVlaAJx2fr9eaTJR1ld4wkNTVGvigAAGzIdiFEkmobjPIdexndDgBADNkyhJTX1DO6HQCAGLNlCMnNSGF0OwAAMWbLEPLsdWP1Xe/9nTan+htTaz6PZmkAANiGLUNIgtOhA0qTr5M1DockI5lGj+T5MlqlAQBgG7YMIbP/8J7GOj9SQieNqdJhzanPTIpWaQAA2IYtQ0jZvoPqryAbUyXpwNeRKwYAAJuyZQjJ752qKgXZmCpJaX0iVwwAADZlyxCycOpove0bpnJzTHBTU294I1qlAQBgG7YMIekpiRoxKFMPeG+UUedTUx2S9NcfRqkyAADsw5YhRJKWXTdOJb6R6qQvVQ7HoTshO16RGg9GqTIAAOzBtiHkyqfX67GkX3U6ul3Sf0LKmnuiURYAALZh2xBSVduofEcI8z/2fha5YgAAsCHbhpD+vVwqM/2Cf0LWsZErBgAAG7JtCFkxY4JmeWd2OrpdOuzcufOjUhcAAHZh2xCSkZakeqVoiy9X0lGCiCQdqIlKXQAA2IVtQ8jbO/dKkgaortPmVP/o9iUTo1YbAAB2YNsQUlVbL0nKcBwI7gn13AkBACCcbBtC+vdKkSTVmLTgnpCYHMFqAACwH9uGkLFDs5SV4tD53gVHb06VpAaPtH1VtMoDAMDybBtCEpwO3fftk1WtTO33tRzrKIg4dCiIvPLfkq85ShUCAGBttg0hkvTXDyokSQ4lBTc5ta5S2r0+KrUBAGB1tg4hZftavg8mxeEN/kl1lRGqBgAAe7F1CMnvnSpJqjdJwT8pPTtC1QAAYC+2DiELp46WJH3L+0hwzakpGdLgCVGpDQAAq7N1CElPSdTIQW5Vqb+afC0NIZ0FEdXXSB/9NTrFAQBgcbYOIZK07LpxkqQC7y86XfefHTJ3sEMGAIAwsH0IufLplt0ubyTdEeQOmQp2yAAAEAa2DyFVtY2SpDRHY/BPYocMAADdZvsQ0r+XS5J0wLiCfxI7ZAAA6Dbbh5AVM1p2u0wKZodM67nSRZEvDAAAi7N9CMlKdykz2aGv1FeNRxvf7jjUnPrxq1LjwWiVCACAJdk+hEjSf2VnSJIalBxcc6okrbkn4nUBAGBlhBBJ5TX1kkJsTt37WYSqAQDAHgghknIzUiSF2JyadWyEqgEAwB4IIZKevW6spBCbU50hBBYAANAGIURSRlqSBmYkhdac+vaTUlMIH98AAIAAhJBDhuf2liTtkzu45lTjkzYtiUptAABYESHkkLJ9LVtuMxwHgn/Svl2RKQYAABsghByS3ztVklRj0oJ/Uu8hkSkGAAAbCCmEFBcX6/TTT1evXr3Uv39/XXbZZdqxY0fAmvr6ehUVFalPnz5KT0/XlClTVFkZ/9+1snDqaEnS+d4FR29Obf3D6TdGvC4AAKwqpBBSUlKioqIibdiwQWvWrJHX69V5552n/fv3+9fMnj1bL730kl544QWVlJSovLxcV1xxRdgLD7f0lESNHORWtTK139ey86WzICJJeuOnkS8MAACLchhz1H9qO/Tll1+qf//+Kikp0VlnnaWamhr169dPy5cv13e+8x1J0kcffaQTTzxRpaWlGj9+/FFf0+PxKCMjQzU1NXK73V0trUvq6ps0Yt5rytJebU6eKanjBlUjyeFwSj+ulBLZrgsAsLdQ/v0uKCiQ1M2ekJqaGklSVlaWJGnz5s3yer0qLCz0rxk2bJjy8/NVWlra7ms0NDTI4/EEPGJl9h/ekyT9LelOdsgAABBhXQ4hPp9Ps2bN0hlnnKERI0ZIkioqKuRyuZSZmRmwNjs7WxUVFe2+TnFxsTIyMvyPvLy8rpbUba07ZNId9cE/iR0yAAB0SZdDSFFRkbZt26YVK1Z0q4C5c+eqpqbG/9izZ0+3Xq87WnfI1JmU4J/EDhkAALqkSyFk5syZevnll/Xmm29q0KBB/uM5OTlqbGxUdXV1wPrKykrl5OS0+1rJyclyu90Bj1hp3SFT6H04+PHtr98X+cIAALCgkEKIMUYzZ87UypUr9cYbb2jo0KEB58eMGaOkpCStXbvWf2zHjh0qKyvzN6HEs/SURA3PSdNeZak+2PHtpkn6qixaJQIAYBmJoSwuKirS8uXL9Ze//EW9evXy93lkZGQoNTVVGRkZuuGGGzRnzhxlZWXJ7Xbr1ltvVUFBQVA7Y+LBwN7p2l5xQF4lK9XR0Olaf9/qU+OlH5dHvDYAAKwkpBCyePFiSdLZZ58dcHzp0qW67rrrJEkLFy6U0+nUlClT1NDQoMmTJ+uJJ54IS7HR0NqcmuYI4cvpvAcjVA0AANYVUggJZqRISkqKFi1apEWLFnW5qFjK752qHRW1OmBccqvzOyH/4YtoTQAAWBHfHXOE1ubUSd5HjtqcKh02wv2R4yNaFwAAVkMIOULr+Pav1FeNvpauj86CiEOHgsj+KqlubzRKBADAEggh7Vg1c6IkaXrzj486OVU6rEH1NxdGtC4AAKyEENKJ/qo++qLD1bU/FRYAALRFCOlAklOqUubRFx4uvf2BbAAAoC1CSAde/eE39bZvmMpN8lGbU/2++iSiNQEAYCWEkA4cl5MuI6ce8N4soyB3yZgm6YE+UagOAICejxDSic33nKvXfGP1Q++Mo67175JhjDsAAEEhhHTiyqfXS5KuTXjzqDtkpCPGuAMAgE4RQjpRVdsyuj3X8XVoT/QeiEA1AABYCyGkE/17uSRJ5SbUPg8jbV8V/oIAALAQQkgnVsyYIEm6zvujoEa4tzKS9Pw1BBEAADpBCOlEVrpL/dJdOqA07fRlSwouiPibVF+5Q/I1R7JEAAB6LELIUWy651wlOaVJ3oX6wtc7qAZV6VCTal2FtHt9JMsDAKDHIoQE4dj+vSRJC5qnhf7kusowVwMAgDUQQoKQ3ztVUhfGuEtSenaYqwEAwBoIIUFYOHW0JIU0xt2/5rnLIlcYAAA9GCEkCOkpiRo5yC1fCGPcHQ4mqAIA0BlCSJBWzZyokYPces03VgubpjBBFQCAbiKEhGDVzIlySNptBoT2RO/BiNQDAEBPRggJUWqSswsNqokRqQUAgJ6MEBL4dc3dAAAYfklEQVSi1bd981CDakrQE1SlRukXp0SyLAAAehxCSIjy+6bJ6XTqAe9NQTWo+u3bSRABAOAwhJAu2DH/Qr3mG6tbvD8M7Yn7dkoHaiJTFAAAPQwhpAve3rlXklQtd9Bj3P1+/93wFwQAQA9ECOmCqtp6SVJ/VYf+5C8/C3M1AAD0TISQLujfK0VSF8e4138pPXJ8mCsCAKDnIYR0wdihWXInhjbGvZWRpP1VBBEAgO0RQrogwenQw1eeGtIY91YOHRZE6vZGrkgAAOIcIaSLzh8xQE9efape843Vzd5Z8oXwXH8v628ujEBlAAD0DISQbjh/RMv49td8Y3XQJIf+Al9+KK35qdTUGObKAACIf4SQbkpOaLmv8bXp1bUX+Mf/SPP7Sa/fG8aqAACIf4SQblp92zclSRd758uYECaoHmn94wQRAICtEEK6aWj/Y+R0SB65Ve1Lk9SNIFL6Kz6aAQDYBiEkDD4rvkhOhzTa+2t/EOkS45M2LQlfYQAAxDFCSJh8VnyRkhJagsgXpgtDzFrt2xW2mgAAiGeEkDDKSEmSJP3b9Ov6i7y3XPJ8GaaKAACIX4SQMHr51rMkSdd5f9T1JlVvnfTocVJxXniLAwAgzhBCwignM0WpSU4dUJp2+rIldaNJtcFDEAEAWBohJMw+/OkFSk1yapJ3oT+IdFmDh49mAACWRQiJgA9/eoGmjB6oSd6FOqnh13q7OVfNocx1P9wzk8JaGwAA8YIQEiFVdQ2SpANK0/e8/6Pmrl7qmjJpXoY0L0ta8yBzRAAAlhHyv4x///vfdfHFFys3N1cOh0MvvvhiwHljjO677z4NGDBAqampKiws1CeffBK2gnuKIX0C54XUmZRuvmKz9I+HGfEOALCMkEPI/v37NWrUKC1atKjd8w8//LAef/xxPfnkk9q4caOOOeYYTZ48WfX19d0utie5+8LhAT8Xeh/u3lj3wzHiHQBgASGHkAsuuEDz58/X5Zdf3uacMUaPPfaY7rnnHl166aUaOXKknnvuOZWXl7e5Y2J1qa4EnTu8v//nvcpSvS9RUpiCCCPeAQA9XFh7Qnbu3KmKigoVFhb6j2VkZGjcuHEqLS1t9zkNDQ3yeDwBD6tYcu3pAUHkRO9z/iDSbYx4BwD0cGENIRUVFZKk7OzAranZ2dn+c0cqLi5WRkaG/5GXZ63ZGEuuPV0f/uR8XXJyH0ktQWRMw6/U1NXdMod77e5DTasZ0rJLpfq6MLwoAADREfPdMXPnzlVNTY3/sWfPnliXFHaprgQ9Pm28BmW2NKfuVZb+Zk4N75vsWictGCg9/a3wvi4AABES1hCSk5MjSaqsrAw4XllZ6T93pOTkZLnd7oCHVa285Uz/n2d5Z4avUfVw5e8SRAAAPUJYQ8jQoUOVk5OjtWvX+o95PB5t3LhRBQUF4XyrHqmfO1nulJaekHqlaIvvWEkRCiJ8NAMAiHMhh5C6ujpt2bJFW7ZskdTSjLplyxaVlZXJ4XBo1qxZmj9/vlatWqWtW7fq2muvVW5uri677LKwF98TvT9vsj+IXO6d7w8iYbfyxsi8LgAAYRLyVo133nlH3/rWf273z5kzR5I0ffp0LVu2THfeeaf279+vGTNmqLq6WmeeeaZWr16tlJTuDuuyjvfnTdaXngad98jfdLl3vlJUr8eSfqZzHTvkkOQMx/2pfbvC8CIAAESOw5iwfxjQLR6PRxkZGaqpqbF0f0ir8x5dp4+r9vt/Hu/crhWu+d1+XZ+OuM2VkCpdulgacYnkTOj26wMAcLhQ/v1ubdGI+e4Yu1sxY0LAz2/7hqncpHa7T6TNf7DNB6U/Xyf9JEvavqp7Lw4AQBgQQmIsK92lfuku/88+OfWA9wcyikDDaqvnryGIAABijhASBzbdc25AEHnNN1Y3e2cpHPPMOvTKHZKvOZLvAABApwghcWLTPefq3XvO1cBjWn5+zTdWxzf8Vtc33qK6ZqnZJ/kOPcKirkLavT5MLwYAQOhoTI1j9/1lm54r3R1wbKvrevVyNoTl9ds0r0qSEqQzbpe+dYeU6Gr7JAAA2kFjqsUMzkprc2yv6RW212//P/xm6R8PS/P7Sa/fG7b3AgDgSISQOHZNwZA2xy72zo/MuPf2rH+cIAIAiBhCSBxzJTr1g7OGBhzzyK1qX8sdkqgEkdJfSU2NUXgjAIDdEELi3NwLh7cJIqO9v/YHkYgzPmnTkui8FwDAVmhM7SEam3z6+d8+0FPryvzH3PLopaTZGuQ4KMdha8My9v0wbXbkOAP+T/v6HC9d/7qUnhXeYgAAcakrjamEkB7sxt9s0poPqwKOPZD4rKYn/i1GFbXjmP7SHZ/EugoAQISxO8ZmFk4d3ebYg01XR69xNRj7q6RHjo91FQCAOEQI6cHSUxI1clBg2myUS683j5EUZ0Gkbm+sqwAAxBlCSA+3aubENkHkB023+4NI3PjNhbGuAAAQZwghFrBq5kRtmzdZE/KP8R/7QdPtOqFhmV5omiBv839GvvvCPf49WHUVUX5DAEC8S4x1AQiP9JRELb/l7DbHpzzRX3eUVbc5Pt65XStc86NQWQvf/n3SfRmdLwpm140kJbmlmzdIWQPDURoAIEa4E2Jxz143tt3jb/uGqdykRq1vxOkM4qEg/0J6PdLjw6Wf9Itw1QCASCKEWFxGWpIG90ltc9wnpx7w/kBGcdTAGipfI0EEAHowQogNlNwxqd0g8ppvrG72zlK020PCytco7f081lUAALqAEGITJXdM0j/vO0/D+iQFHH/NN1bHN/xW1zfeorpmqbmdBtbOHnHh6QmxrgAA0AVMTEWHht+7Wge8zR2ef8X1Iw137oliRe0LOgwF2/h6pCFnS1f+TkpJD/WZAGAbTExFWGUdk9Tp+TITH/0YQTW9htL4eqRd66QFA6WnvxXewgHA5ggh6NDKW87s9Pws78z4GhEfaeXvEkQAIIwIIehQP3ey3Ckdj5KpV4q2+I6VZLMgUl8X6yoAwBIIIejU+/MmdxpELvfO9wcR21h5Y6wrAABLoDEVQfnS06DzHvmb9nnbP5+iej2WtFATHVuVIskRpvd1xmFMjuquoK4204b8Pi5p6FnSiClSZp40eILkTIj0uwKwkK40phJCEHWn/fR1fbW/gzRzmO8nvKL7kn4bhYrQhjtXOv9n0vBLYl0JgB6C3THoEV6+9ayg1j3XfJ6a7dT4Gk885dLz10rbV8W6EgAWRghB1OVkpig16eh/9ZqUqCVN35ZEEImZ1XdJvo5nxQBAdxBCEBMf/vSCoILIgub/p6eavt2zR8v3WEbyfC7tXh/rQgBYFCEEMfPhTy/QhrvOUdtvtQm0oPn/6YSG5/Rz78VqbA5trHyoD7SjrjLWFQCwKBpTYTkj562Wpz70jxBKkn6owQlfRaCini3m4SxaO4RiyiE5E6X0HOm0G6QJRVKiK9ZFASGhMRWQ9OoPv9ml513snW+vCbBBCnosfqQessP/UBnJ55U8e6Q35knz+0mv3xvrooCIs/5/t2E7A7NS5UoIfVKJR25V+9IkEUQQB9Y/ThCB5RFCYEkfP3hhl4LIaO+v/UEEiLnSX0lNjbGuAogYQggs6+MHL9Q/7pykUOd+jvb+WqMantTu5lQ1R7AJNhYP9DDGJ21aEusqgIihMRWIAwXFa/VFTX1E3+M3ScX6ZsLWiL4Hwo/wGCIn/9910IacLV35OyklPSwv15XG1I6/mQxA1ORmpEQ8hOwy2fqmCCE9TTx+fxIsYtc6acFAKfdUacabMSmBv95AHHj2urERf48Hm65m9w+AtsrflZ7+VkzemhACxIGMtCQN7nO0sW3d0yiXXm8eI4kgAuAI5e9K9XVRf1tCCBAnSu6YFPEg8oOm2/1BBAACrLwx6m9JTwgQR0rumKSaA15NXfSmPvraG5H3+EHT7XI1Ner+xGU6z/GWshxNkqTQNzQjFPR2IO7t2xX1t4xYCFm0aJEeeeQRVVRUaNSoUfrlL3+psWMj/7k30NNlpCVp9R3nReGdLo/CewRv+L2v6oDXmltBHkh8VtOdf4t1GUDneg+J+ltGJJv/4Q9/0Jw5c3T//ffr3Xff1ahRozR58mRVVVVF4u0AWMDq27o2br8noCkY8cwYyUjS5dGfSROREPLoo4/qxhtv1PXXX6/hw4frySefVFpamp599tlIvB0AC8jvm6ZEi35kQVMw4lXr38ctzceqTilRf/+w/1e+sbFRmzdvVmFh4X/exOlUYWGhSktL26xvaGiQx+MJeACwp08fusiyQYSmYMSrLb5jdbl3vmb/4b2ov3fYe0K++uorNTc3Kzs7O+B4dna2Pvroozbri4uL9cADD4S7DAA91KcPXaSyrw7orP+JzfCkSApsCv4/ZTmaJdEUjNgoMSN0s3eO6g/dASnbdzDqNcR8d8zcuXM1Z84c/88ej0d5eXkxrAhArOX3TdOuBRfFuowIiq+m4J6m9F9f66olG2JdhuXk947siID2hD2E9O3bVwkJCaqsrAw4XllZqZycnDbrk5OTlZycHO4yAAAWNXZoltyJkqcp1pVYy8Kpo6P+nmH/9NXlcmnMmDFau3at/5jP59PatWv9X1gDAEBXJTgdevjKU2NdhqWMHORWekr0PxyJSAvYnDlztGTJEv3mN7/Rhx9+qJtvvln79+/X9ddfH4m3AwDYzPkjBujJqwki4TBykFurZk6MyXtHJPZMnTpVX375pe677z5VVFTolFNO0erVq9s0qwIA0FXnjxigfz10oV5+Z49u+zPfEB2qM/6rj5665rSY3AFp5TAmvnatezweZWRkqKamRm63O9blAACAIITy73dre4ZFd+QDAIB4RwgBAAAxQQgBAAAxQQgBAAAxQQgBAAAxQQgBAAAxQQgBAAAxQQgBAAAxQQgBAAAxEbtZrR1oHeDq8XhiXAkAAAhW67/boQxij7sQUltbK0nKy8uLcSUAACBUtbW1ysjICGpt3IWQ3Nxc7dmzR7169ZLD4Qjra3s8HuXl5WnPnj18L00EcZ2jg+scHVzn6OFaR0ekrrMxRrW1tcrNzQ36OXEXQpxOpwYNGhTR93C73fwFjwKuc3RwnaOD6xw9XOvoiMR1DvYOSCsaUwEAQEwQQgAAQEwkzJs3b16si4imhIQEnX322UpMjLtPoiyF6xwdXOfo4DpHD9c6OmJ9nZ955hlJksOEspcGAACgmwoKCiTxcQwAAIgRQggAAIgJQggAAIgJQggAAIgJ24SQRYsWaciQIUpJSdG4ceP09ttvx7qkuPb3v/9dF198sXJzc+VwOPTiiy8GnDfG6L777tOAAQOUmpqqwsJCffLJJwFr9u7dq2nTpsntdiszM1M33HCD6urqAta8//77mjhxolJSUpSXl6eHH3444r9bPCkuLtbpp5+uXr16qX///rrsssu0Y8eOgDX19fUqKipSnz59lJ6erilTpqiysjJgTVlZmS666CKlpaWpf//+uuOOO9TU1BSwZt26dTr11FOVnJys4447TsuWLYv0rxc3Fi9erJEjR/qHMxUUFOjVV1/1n+caR8aCBQvkcDg0a9Ys/zGudffNmzdPDocj4DFs2DD/+R51jY0NrFixwrhcLvPss8+aDz74wNx4440mMzPTVFZWxrq0uPXKK6+YH//4x+bPf/6zkWRWrlwZcH7BggUmIyPDvPjii+af//ynueSSS8zQoUPNwYMH/WvOP/98M2rUKLNhwwbzf//3f+a4444zV111lf98TU2Nyc7ONtOmTTPbtm0zv//9701qaqp56qmnovZ7xtrkyZPN0qVLzbZt28yWLVvMhRdeaPLz801dXZ1/zU033WTy8vLM2rVrzTvvvGPGjx9vJkyY4D/f1NRkRowYYQoLC817771nXnnlFdO3b18zd+5c/5rPPvvMpKWlmTlz5pjt27ebX/7ylyYhIcGsXr06qr9vrKxatcr89a9/NR9//LHZsWOHufvuu01SUpLZtm2bMYZrHAlvv/22GTJkiBk5cqS57bbb/Me51t13//33m5NOOsl88cUX/seXX37pP98TrvH48ePN+PHjjS1CyNixY01RUZH/5+bmZpObm2uKi4tjWFXPcWQI8fl8JicnxzzyyCP+Y9XV1SY5Odn8/ve/N8YYs337diPJbNq0yb/m1VdfNQ6Hw3z++efGGGOeeOIJ07t3b9PQ0OBf86Mf/ciccMIJkf6V4lZVVZWRZEpKSowxLdc1KSnJvPDCC/41H374oZFkSktLjTEtgdHpdJqKigr/msWLFxu32+2/tnfeeac56aSTAt5r6tSpZvLkyZH+leJW7969za9//WuucQTU1taa448/3qxZs8Z885vf9IcQrnV43H///WbUqFHtnusp17g1hFj+45jGxkZt3rxZhYWF/mNOp1OFhYUqLS2NYWU9186dO1VRURFwTTMyMjRu3Dj/NS0tLVVmZqZOO+00/5rCwkI5nU5t3LjRv+ass86Sy+Xyr5k8ebJ27Nihffv2Rem3iS81NTWSpKysLEnS5s2b5fV6A671sGHDlJ+fH3CtTz75ZGVnZ/vXTJ48WR6PRx988IF/zeGv0brGjv8daG5u1ooVK7R//34VFBRwjSOgqKhIF110UZvrwbUOn08++US5ubk69thjNW3aNJWVlUnqedfY8iHkq6++UnNzc8DFlqTs7GxVVFTEqKqerfW6dXZNKyoq1L9//4DziYmJysrKCljT3msc/h524vP5NGvWLJ1xxhkaMWKEpJbr4HK5lJmZGbD2yGt9tOvY0RqPx6ODBw9G5PeJN1u3blV6erqSk5N10003aeXKlRo+fDjXOMxWrFihd999V8XFxW3Oca3DY9y4cVq2bJlWr16txYsXa+fOnZo4caJqa2t73DVmLi4QJ4qKirRt2za99dZbsS7Fkk444QRt2bJFNTU1+uMf/6jp06erpKQk1mVZyp49e3TbbbdpzZo1SklJiXU5lnXBBRf4/zxy5EiNGzdOgwcP1vPPP6/U1NQYVhY6y98J6du3rxISEtp0BldWVionJydGVfVsrdets2uak5OjqqqqgPNNTU3au3dvwJr2XuPw97CLmTNn6uWXX9abb76pQYMG+Y/n5OSosbFR1dXVAeuPvNZHu44drXG73T3uf7S6yuVy6bjjjtOYMWNUXFysUaNG6Re/+AXXOIw2b96sqqoqnXrqqUpMTFRiYqJKSkr0+OOPKzExUdnZ2VzrCMjMzNQ3vvENffrppz3u77PlQ4jL5dKYMWO0du1a/zGfz6e1a9f6Z9cjNEOHDlVOTk7ANfV4PNq4caP/mhYUFKi6ulqbN2/2r3njjTfk8/k0btw4/5q///3v8nq9/jVr1qzRCSecoN69e0fpt4ktY4xmzpyplStX6o033tDQoUMDzo8ZM0ZJSUkB13rHjh0qKysLuNZbt24NCH1r1qyR2+3W8OHD/WsOf43WNXb+74DP51NDQwPXOIzOOeccbd26VVu2bPE/TjvtNE2bNs3/Z651+NXV1elf//qXBgwY0PP+PoelzTXOrVixwiQnJ5tly5aZ7du3mxkzZpjMzMyAzmAEqq2tNe+995557733jCTz6KOPmvfee8/s3r3bGNOyRTczM9P85S9/Me+//7659NJL292iO3r0aLNx40bz1ltvmeOPPz5gi251dbXJzs4211xzjdm2bZtZsWKFSUtLs9UW3ZtvvtlkZGSYdevWBWy3O3DggH/NTTfdZPLz880bb7xh3nnnHVNQUGAKCgr851u325133nlmy5YtZvXq1aZfv37tbre74447zIcffmgWLVpkqy2Nd911lykpKTE7d+4077//vrnrrruMw+Ewr7/+ujGGaxxJh++OMYZrHQ633367Wbdundm5c6f5xz/+YQoLC03fvn1NVVWVMaZnXGNbbdE1xphf/vKXJj8/37hcLjN27FizYcOGWJcU1958800jqc1j+vTpxpiWbbr33nuvyc7ONsnJyeacc84xO3bsCHiNr7/+2lx11VUmPT3duN1uc/3115va2tqANf/85z/NmWeeaZKTk83AgQPNggULovUrxoX2rrEks3TpUv+agwcPmltuucX07t3bpKWlmcsvv9x88cUXAa+za9cuc8EFF5jU1FTTt29fc/vttxuv1xuw5s033zSnnHKKcblc5thjjw14D6v7/ve/bwYPHmxcLpfp16+fOeecc/wBxBiucSQdGUK41t03depUM2DAAONyuczAgQPN1KlTzaeffuo/3xOucWsIcRhjTHjvrQAAAHSs9WMdy/eEAACA+EQIAQAAMUEIAQAAMUEIAQAAMUEIAQAAMUEIAQAAMUEIAQAAMUEIAQAAMUEIAQAAMUEIAQAAMUEIAQAAMUEIAQAAMfH/AcUM2+6Vqhc5AAAAAElFTkSuQmCC)"
      ],
      "metadata": {
        "id": "ErcNuFaQZs9H"
      }
    },
    {
      "cell_type": "markdown",
      "source": [
        "**Métodos para visualização das soluções**\n",
        "\n",
        "Mapa de calor das posições de rainhas"
      ],
      "metadata": {
        "id": "57rkYeXgqWti"
      }
    },
    {
      "cell_type": "code",
      "source": [
        "def appendToBoard(board,solution):\n",
        "  for i in range(0,len(solution)):\n",
        "    board[solution[i]][i] = board[solution[i]][i] + 1\n"
      ],
      "metadata": {
        "id": "F38salb7u7PZ"
      },
      "execution_count": 94,
      "outputs": []
    },
    {
      "cell_type": "code",
      "source": [
        "MU = 20\n",
        "N = 10\n",
        "limit = 5000\n",
        "\n",
        "crossover_rate = 1\n",
        "mutation_rate = 0.8\n",
        "\n",
        "total_it = 100\n",
        "best = np.zeros((N,N))\n",
        "\n",
        "\n",
        "for i in range(0,total_it):\n",
        "    b= find_n_queens()\n",
        "    appendToBoard(best,b)\n",
        "\n",
        "plt.imshow(best)\n",
        "plt.colorbar()\n",
        "plt.show()\n",
        "\n",
        "# x = range(0,int(iterations/total_it))\n",
        "# print(len(best),len(best[0]))\n",
        "# plt.scatter(x,squash(best))\n",
        "# plt.scatter(x,squash(average))\n",
        "# plt.show()"
      ],
      "metadata": {
        "colab": {
          "base_uri": "https://localhost:8080/",
          "height": 430
        },
        "id": "2s8en6jtqjme",
        "outputId": "27272ab0-87ca-477a-886b-727a67150937"
      },
      "execution_count": 96,
      "outputs": [
        {
          "output_type": "display_data",
          "data": {
            "text/plain": [
              "<Figure size 640x480 with 2 Axes>"
            ],
            "image/png": "[encoded data removed]"
          },
          "metadata": {}
        }
      ]
    }
  ],
  "metadata": {
    "colab": {
      "provenance": [],
      "toc_visible": true,
      "authorship_tag": "ABX9TyOBK0gI4Cf37DAmXIiM3/zF",
      "include_colab_link": true
    },
    "kernelspec": {
      "display_name": "Python 3",
      "name": "python3"
    },
    "language_info": {
      "name": "python"
    }
  },
  "nbformat": 4,
  "nbformat_minor": 0
}